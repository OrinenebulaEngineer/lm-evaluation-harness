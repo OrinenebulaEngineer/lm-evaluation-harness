{
 "cells": [
  {
   "cell_type": "code",
   "execution_count": 14,
   "id": "b34a673f",
   "metadata": {},
   "outputs": [],
   "source": [
    "\n",
    " \n",
    "results = {\"results\": {\n",
    "    \"khayyam-challenge\": {\n",
    "      \"alias\": \"khayyam-challenge\",\n",
    "      \"acc,none\": 0.2,\n",
    "      \"acc_stderr,none\": 0.13333333333333333,\n",
    "      \"acc_norm,none\": 0.1,\n",
    "      \"acc_norm_stderr,none\": 0.09999999999999999\n",
    "    }\n",
    "  }}\n"
   ]
  },
  {
   "cell_type": "code",
   "execution_count": 15,
   "id": "a6088dbb",
   "metadata": {},
   "outputs": [
    {
     "data": {
      "text/plain": [
       "'khayyam-challenge'"
      ]
     },
     "execution_count": 15,
     "metadata": {},
     "output_type": "execute_result"
    }
   ],
   "source": [
    "keys= list(results['results'].keys())\n",
    "\n",
    "k = keys[0]\n",
    "(k)"
   ]
  },
  {
   "cell_type": "code",
   "execution_count": 11,
   "id": "6f876d0f",
   "metadata": {},
   "outputs": [
    {
     "data": {
      "text/plain": [
       "0.2"
      ]
     },
     "execution_count": 11,
     "metadata": {},
     "output_type": "execute_result"
    }
   ],
   "source": [
    "acc = results['results'][k][\"acc,none\"]\n",
    "acc"
   ]
  },
  {
   "cell_type": "code",
   "execution_count": null,
   "id": "dd6e0026",
   "metadata": {},
   "outputs": [],
   "source": [
    "results  {\"config\": {\n",
    "    \"model\": \"hf\",\n",
    "    \"model_args\": \"pretrained=google/gemma-2-9b,revision=main,dtype=bfloat16\",\n",
    "    \"model_num_parameters\": 9241705984,\n",
    "    \"model_dtype\": \"bfloat16\",\n",
    "    \"model_revision\": \"main\",\n",
    "    \"model_sha\": \"main\",\n",
    "    \"batch_size\": \"auto\",\n",
    "    \"batch_sizes\": [\n",
    "      32\n",
    "    ],\n",
    "    \"device\": \"cuda\",\n",
    "    \"use_cache\": None,\n",
    "    \"limit\": 10,\n",
    "    \"bootstrap_iters\": 100000,\n",
    "    \"gen_kwargs\": None,\n",
    "    \"random_seed\": 0,\n",
    "    \"numpy_seed\": 1234,\n",
    "    \"torch_seed\": 1234,\n",
    "    \"fewshot_seed\": 1234,\n",
    "    \"model_name\": \"google/gemma-2-9b\"\n",
    "  }}"
   ]
  },
  {
   "cell_type": "code",
   "execution_count": 13,
   "id": "213eb902",
   "metadata": {},
   "outputs": [
    {
     "data": {
      "text/plain": [
       "'google/gemma-2-9b'"
      ]
     },
     "execution_count": 13,
     "metadata": {},
     "output_type": "execute_result"
    }
   ],
   "source": [
    "results[\"config\"][\"model_name\"]"
   ]
  },
  {
   "cell_type": "code",
   "execution_count": null,
   "id": "c3d9d62b",
   "metadata": {},
   "outputs": [],
   "source": []
  },
  {
   "cell_type": "code",
   "execution_count": 4,
   "id": "88960959",
   "metadata": {},
   "outputs": [
    {
     "data": {
      "text/plain": [
       "WindowsPath('d:/itrc')"
      ]
     },
     "execution_count": 4,
     "metadata": {},
     "output_type": "execute_result"
    }
   ],
   "source": [
    "from pathlib import Path\n",
    "\n",
    "current_dir = Path.cwd()\n",
    "\n",
    "current_dir.parent.parent\n"
   ]
  }
 ],
 "metadata": {
  "kernelspec": {
   "display_name": "base",
   "language": "python",
   "name": "python3"
  },
  "language_info": {
   "codemirror_mode": {
    "name": "ipython",
    "version": 3
   },
   "file_extension": ".py",
   "mimetype": "text/x-python",
   "name": "python",
   "nbconvert_exporter": "python",
   "pygments_lexer": "ipython3",
   "version": "3.9.12"
  }
 },
 "nbformat": 4,
 "nbformat_minor": 5
}
